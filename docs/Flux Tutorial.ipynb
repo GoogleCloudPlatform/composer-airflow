{
 "metadata": {
  "name": "",
  "signature": "sha256:18cc8ae7304427d2cf4defc71d18d8f5e2701170ee376e73de767e25cbbf2271"
 },
 "nbformat": 3,
 "nbformat_minor": 0,
 "worksheets": [
  {
   "cells": [
    {
     "cell_type": "markdown",
     "metadata": {},
     "source": [
      "#Flux tutorial\n",
      "This tutorial walks through some of the fundamental concepts, objects and their usage.\n",
      "\n",
      "##Hooks\n",
      "Hooks are a simple abstraction layer on systems Flux interacts with. You should expect a lot more consistency across hooks than you would with the different systems' underlying libraries. You should also expect a higher level of abstraction.\n",
      "\n",
      "Connection information is stored in the Flux metadata database, so that you don't need to hard code or remember this connection information. In the bellow example, we connect to a MySQL database by specifying the mysql_dbid, which looks up Flux's metadata to get the actual hostname, login, password, and schema name behind the scene.\n",
      "\n",
      "Common methods:\n",
      "* Get a recordset\n",
      "* Extract a csv file\n",
      "* Run a statement\n",
      "* Load into a table from a csv file\n",
      "* Get a pandas dataframe\n",
      "* Get a json blob (array of objects)"
     ]
    },
    {
     "cell_type": "code",
     "collapsed": false,
     "input": [
      "from core.hooks import MySqlHook\n",
      "mysql_hook = MySqlHook(mysql_dbid='local_mysql')\n",
      "sql = \"\"\"\n",
      "SELECT table_schema, table_name \n",
      "FROM information_schema.tables \n",
      "WHERE table_schema = 'flux'\n",
      "\"\"\"\n",
      "mysql_hook.get_records(sql)"
     ],
     "language": "python",
     "metadata": {},
     "outputs": [
      {
       "metadata": {},
       "output_type": "pyout",
       "prompt_number": 5,
       "text": [
        "(('flux', 'dag'),\n",
        " ('flux', 'db_connection'),\n",
        " ('flux', 'deleteme'),\n",
        " ('flux', 'job'),\n",
        " ('flux', 'log'),\n",
        " ('flux', 'task'),\n",
        " ('flux', 'task_instance'),\n",
        " ('flux', 'tmp'),\n",
        " ('flux', 'user'))"
       ]
      }
     ],
     "prompt_number": 5
    },
    {
     "cell_type": "heading",
     "level": 2,
     "metadata": {},
     "source": [
      "Operators"
     ]
    },
    {
     "cell_type": "markdown",
     "metadata": {},
     "source": [
      "Operators allow you to perform a type of interaction with subsystems. There are 3 main families of operator\n",
      "* **Remote execution:** run a Hive statement, run a map-reduce job, run a bash script, ...\n",
      "* **Sensors:** Wait for a Hive partition, wait for MySQL statement to return a row count > 0, wait for a file to land in HDFS\n",
      "* **Data transfers:** Move data from Hive to MySQL, from a file into a Hive table, from Oracle to Hive, ...\n",
      "\n",
      "An operator instance is a task, and it represents a node in the DAG (directed acyclic graph). A task defines a start_date, end_date (None for open ended) and a schedule_interval (say daily or hourly). Actual task runs for a specific schedule time are what we refer to as task instances.\n",
      "\n",
      "Bellow we run a simple remote MySQL statement, over a date range. The task.run() method will instanciate many task runs for the schedule specified, and run them, storing the state in the Flux database. If you were to re-run this, it would say it already succeded."
     ]
    },
    {
     "cell_type": "code",
     "collapsed": false,
     "input": [
      "from core.operators import MySqlOperator\n",
      "from datetime import datetime, timedelta\n",
      "\n",
      "sql = \"\"\"\n",
      "INSERT INTO tmp\n",
      "SELECT 1;\n",
      "\"\"\"\n",
      "mysql_op = MySqlOperator(task_id='test_task3', sql=sql, mysql_dbid='local_mysql', owner='max')\n",
      "mysql_op.run(start_date=datetime(2014, 9, 15))"
     ],
     "language": "python",
     "metadata": {},
     "outputs": [],
     "prompt_number": 5
    },
    {
     "cell_type": "heading",
     "level": 2,
     "metadata": {},
     "source": [
      "Creating a DAG"
     ]
    },
    {
     "cell_type": "markdown",
     "metadata": {},
     "source": [
      "A DAG is simply a collection of tasks, with relationship between them, and their associated task instance run states."
     ]
    },
    {
     "cell_type": "code",
     "collapsed": false,
     "input": [
      "from core.operators import MySqlOperator\n",
      "from core import DAG\n",
      "from datetime import datetime\n",
      "\n",
      "# Setting some default operator parameters\n",
      "default_args = {\n",
      "    'owner': 'max',\n",
      "    'mysql_dbid': 'local_mysql',\n",
      "}\n",
      "\n",
      "# Initializing a directed acyclic graph\n",
      "dag = DAG(dag_id='test_dag')\n",
      "\n",
      "# MySQL Operator \n",
      "sql = \"TRUNCATE TABLE tmp;\"\n",
      "mysql_fisrt = MySqlOperator(task_id='mysql_fisrt', sql=sql, **default_args)\n",
      "dag.add_task(mysql_fisrt)\n",
      "\n",
      "sql = \"\"\"\n",
      "INSERT INTO tmp\n",
      "SELECT {{ macros.random() * 100 }};\n",
      "\"\"\"\n",
      "mysql_second = MySqlOperator(task_id='mysql_second', sql=sql, **default_args)\n",
      "dag.add_task(mysql_second)\n",
      "mysql_second.set_upstream(mysql_fisrt)\n",
      " \n",
      "dag.tree_view()\n",
      "#dag.run(start_date=datetime(2014, 9, 1), end_date=datetime(2014, 9, 1))\n"
     ],
     "language": "python",
     "metadata": {},
     "outputs": [
      {
       "output_type": "stream",
       "stream": "stdout",
       "text": [
        "<Task(MySqlOperator): mysql_second>\n",
        "    <Task(MySqlOperator): mysql_fisrt>\n"
       ]
      }
     ],
     "prompt_number": 1
    },
    {
     "cell_type": "heading",
     "level": 2,
     "metadata": {},
     "source": [
      "Templating with Jinja"
     ]
    },
    {
     "cell_type": "markdown",
     "metadata": {},
     "source": [
      "Jinja is a powerful templating engine in Python. It allows to nicely integrate code logic, variables and call methods whithin your commands. \n",
      "\n",
      "By default all templated fields in operators get access to these objects:\n",
      "* **task_instance** object with execution_date \n",
      "* **macros**, a growing collection of useful methods\n",
      "* **params**, a flexible reference which you pass as you construct a task. You typically would pass it a dictionary of constants, but you are free to pass an entier module or any object here. Params is the Trojan horse from which you pass parameters from your DAG code to your template.\n",
      "* **dag**, a reference to the current DAG object\n",
      "* **task**, a reference to the current task object"
     ]
    },
    {
     "cell_type": "code",
     "collapsed": false,
     "input": [
      "# Arbitrary macros\n",
      "sql = \"\"\"\n",
      "INSERT INTO tmp\n",
      "SELECT {{ macros.random() * 100 }} \n",
      "FROM t \n",
      "WHERE ds='{{ macros.hive.latest_partition_for_table(some_other_table) }}';\n",
      "\"\"\"\n",
      "\n",
      "# References to constants, execution_date\n",
      "sql = \"\"\"\n",
      "INSERT OVWERWRITE TABLE {{ some_table }} \n",
      "    PARTITON (ds='{{ task_instance.execution_date }}')\n",
      "SELECT field \n",
      "FROM {{ some_other_table }}\n",
      "WHERE ds='{{ macros.latest_partition_for_table(some_other_table) }}';\n",
      "\"\"\"\n",
      "\n",
      "# Code logic\n",
      "sql = \"\"\"\n",
      "INSERT OVWERWRITE TABLE the_table\n",
      "    PARTITON (ds='{{ task_instance.execution_date }}')\n",
      "{% if (mactros.datetime.now() - task_instance.execution_date).days > 90 %}\n",
      "    SELECT * FROM anonymized_table;\n",
      "{% else %}\n",
      "    SELECT * FROM non_anonymized_table;\n",
      "{% endif %}\n",
      "\"\"\""
     ],
     "language": "python",
     "metadata": {},
     "outputs": []
    },
    {
     "cell_type": "heading",
     "level": 2,
     "metadata": {},
     "source": [
      "Command Line"
     ]
    },
    {
     "cell_type": "markdown",
     "metadata": {},
     "source": [
      "Perform any surgery you need from the command line. Fix false positive, false negative, rerun subsection DAGs. "
     ]
    },
    {
     "cell_type": "code",
     "collapsed": false,
     "input": [
      "%%bash\n",
      "# Printing the --help for the main and subcommands\n",
      "cd /home/mistercrunch/Flux\n",
      "./flux --help\n",
      "echo ============================================================================\n",
      "./flux run -h\n",
      "echo ============================================================================\n",
      "./flux clear -h\n",
      "echo ============================================================================\n",
      "./flux webserver -h"
     ],
     "language": "python",
     "metadata": {},
     "outputs": [
      {
       "output_type": "stream",
       "stream": "stdout",
       "text": [
        "  _____ __                \n",
        "_/ ____\\  |  __ _____  ___\n",
        "\\   __\\|  | |  |  \\  \\/  /\n",
        " |  |  |  |_|  |  />    < \n",
        " |__|  |____/____//__/\\_ \\\n",
        "                        \\/\n",
        "usage: flux.py [-h] {run,clear,webserver} ...\n",
        "\n",
        "positional arguments:\n",
        "  {run,clear,webserver}\n",
        "                        sub-command help\n",
        "    run                 Run subsections of a DAG for a specified date range\n",
        "    clear               Clear a set of task instance, as if they never ran\n",
        "    webserver           Start a Flux webserver instance\n",
        "\n",
        "optional arguments:\n",
        "  -h, --help            show this help message and exit\n",
        "============================================================================\n",
        "  _____ __                \n",
        "_/ ____\\  |  __ _____  ___\n",
        "\\   __\\|  | |  |  \\  \\/  /\n",
        " |  |  |  |_|  |  />    < \n",
        " |__|  |____/____//__/\\_ \\\n",
        "                        \\/\n",
        "usage: flux.py run [-h] [-t TASK_ID] [-s START_DATE] [-e END_DATE] [-m] [-sd SUBDIR] dag_id\n",
        "\n",
        "positional arguments:\n",
        "  dag_id                The id of the dag to run\n",
        "\n",
        "optional arguments:\n",
        "  -h, --help            show this help message and exit\n",
        "  -t TASK_ID, --task_id TASK_ID\n",
        "                        The id of the task to run\n",
        "  -s START_DATE, --start_date START_DATE\n",
        "                        Overide start_date YYYY-MM-DD\n",
        "  -e END_DATE, --end_date END_DATE\n",
        "                        Overide end_date YYYY-MM-DD\n",
        "  -m, --mark_success    Mark jobs as succeeded without running them\n",
        "  -sd SUBDIR, --subdir SUBDIR\n",
        "                        Sub directory from which to look for the dag\n",
        "============================================================================\n",
        "  _____ __                \n",
        "_/ ____\\  |  __ _____  ___\n",
        "\\   __\\|  | |  |  \\  \\/  /\n",
        " |  |  |  |_|  |  />    < \n",
        " |__|  |____/____//__/\\_ \\\n",
        "                        \\/\n",
        "usage: flux.py clear [-h] [-t TASK_ID] [-s START_DATE] [-e END_DATE] [-sd SUBDIR] dag_id\n",
        "\n",
        "positional arguments:\n",
        "  dag_id                The id of the dag to run\n",
        "\n",
        "optional arguments:\n",
        "  -h, --help            show this help message and exit\n",
        "  -t TASK_ID, --task_id TASK_ID\n",
        "                        The id of the task to run (optional)\n",
        "  -s START_DATE, --start_date START_DATE\n",
        "                        Overide start_date YYYY-MM-DD\n",
        "  -e END_DATE, --end_date END_DATE\n",
        "                        Overide end_date YYYY-MM-DD\n",
        "  -sd SUBDIR, --subdir SUBDIR\n",
        "                        File location or directory from which to look for the dag\n",
        "============================================================================\n",
        "  _____ __                \n",
        "_/ ____\\  |  __ _____  ___\n",
        "\\   __\\|  | |  |  \\  \\/  /\n",
        " |  |  |  |_|  |  />    < \n",
        " |__|  |____/____//__/\\_ \\\n",
        "                        \\/\n",
        "usage: flux.py webserver [-h] [-p PORT]\n",
        "\n",
        "optional arguments:\n",
        "  -h, --help            show this help message and exit\n",
        "  -p PORT, --port PORT  Set the port on which to run the web server\n"
       ]
      }
     ],
     "prompt_number": 27
    },
    {
     "cell_type": "code",
     "collapsed": false,
     "input": [
      "%%bash\n",
      "# Example run command\n",
      "./flux run example_2 -t runme_1 -s 2014-09-01 -e 2014-09-01\n",
      "#./flux clear example_2 -t runme_1 -s 2014-09-01 -e 2014-09-01"
     ],
     "language": "python",
     "metadata": {},
     "outputs": [
      {
       "output_type": "stream",
       "stream": "stdout",
       "text": [
        "1: 2014-09-01 00:00:00\n",
        "  _____ __                \n",
        "_/ ____\\  |  __ _____  ___\n",
        "\\   __\\|  | |  |  \\  \\/  /\n",
        " |  |  |  |_|  |  />    < \n",
        " |__|  |____/____//__/\\_ \\\n",
        "                        \\/\n",
        "Executing <Task(BashOperator): runme_1> for 2014-09-01 00:00:00\n",
        "Runnning command: echo \"1: 2014-09-01 00:00:00\"\n"
       ]
      }
     ],
     "prompt_number": 38
    },
    {
     "cell_type": "heading",
     "level": 2,
     "metadata": {},
     "source": [
      "Creating an Operator"
     ]
    },
    {
     "cell_type": "markdown",
     "metadata": {},
     "source": [
      "Deriving BaseOperator isn't hard. You should create all the operators your environment needs as building blocks factories for your pipelines.\n",
      "\n",
      "Here's the source for the MySqlOperator"
     ]
    },
    {
     "cell_type": "code",
     "collapsed": false,
     "input": [
      "from core.models import BaseOperator                                            \n",
      "from core.hooks import MySqlHook                                                \n",
      "                                                                                \n",
      "class MySqlOperator(BaseOperator):                                              \n",
      "                                                                                \n",
      "    __mapper_args__ = {'polymorphic_identity': 'MySqlOperator'} # SqlAlchemy artifact                                                                           \n",
      "    template_fields = ('sql',) # the jinja template will be applied to these fields                                                  \n",
      "                                                                                \n",
      "    def __init__(self, sql, mysql_dbid, *args, **kwargs):                       \n",
      "        super(MySqlOperator, self).__init__(*args, **kwargs)                    \n",
      "                                                                                \n",
      "        self.hook = MySqlHook(mysql_dbid=mysql_dbid)                            \n",
      "        self.sql = sql                                                          \n",
      "                                                                                \n",
      "    def execute(self, execution_date):                                          \n",
      "        print('Executing:' + self.sql)                                          \n",
      "        self.hook.run(self.sql)"
     ],
     "language": "python",
     "metadata": {},
     "outputs": [],
     "prompt_number": 3
    },
    {
     "cell_type": "heading",
     "level": 2,
     "metadata": {},
     "source": [
      "Executors"
     ]
    },
    {
     "cell_type": "markdown",
     "metadata": {},
     "source": [
      "Executors are an abrastraction on top of systems that can run Flux task instances. The default LocalExecutor is a simple implementation of Python's multiprocessing with a simple joinable queue.\n",
      "\n",
      "Arbitrary executors can be derived from BaseExecutor. Expect a Celery, Redis/Mesos and other executors to be created soon. "
     ]
    },
    {
     "cell_type": "code",
     "collapsed": false,
     "input": [
      "from core.operators import MySqlOperator\n",
      "from core import DAG\n",
      "from datetime import datetime\n",
      "\n",
      "# Setting some default operator parameters\n",
      "default_args = {\n",
      "    'owner': 'max',\n",
      "    'mysql_dbid': 'local_mysql',\n",
      "}\n",
      "\n",
      "# Initializing a directed acyclic graph\n",
      "dag = DAG(dag_id='test_dag')\n",
      "\n",
      "# MySQL Operator \n",
      "sql = \"TRUNCATE TABLE tmp;\"\n",
      "mysql_fisrt = MySqlOperator(task_id='mysql_fisrt', sql=sql, **default_args)\n",
      "dag.add_task(mysql_fisrt)\n",
      "\n",
      "sql = \"\"\"\n",
      "INSERT INTO tmp\n",
      "SELECT {{ macros.random() * 100 }};\n",
      "\"\"\"\n",
      "mysql_second = MySqlOperator(task_id='mysql_second', sql=sql, **default_args)\n",
      "dag.add_task(mysql_second)\n",
      "mysql_second.set_upstream(mysql_fisrt)\n",
      " \n",
      "dag.tree_view()\n",
      "#dag.run(start_date=datetime(2014, 9, 1), end_date=datetime(2014, 9, 1))\n",
      "\n",
      "from core.models import TaskInstance as TI\n",
      "ti = TI(dag.tasks[0], execution_date =datetime(2014,9,1))\n",
      "print ti.command()\n",
      "#print ti.task.pickle()"
     ],
     "language": "python",
     "metadata": {},
     "outputs": [
      {
       "output_type": "stream",
       "stream": "stdout",
       "text": [
        "<Task(MySqlOperator): mysql_second>\n",
        "    <Task(MySqlOperator): mysql_fisrt>\n",
        "./flux run test_dag mysql_fisrt 2014-09-01T00:00:00  --pickle \"ccopy_reg|~|~|_reconstructor|~|~|p0|~|~|(ccore.operators.mysql_operator|~|~|MySqlOperator|~|~|p1|~|~|c__builtin__|~|~|object|~|~|p2|~|~|Ntp3|~|~|Rp4|~|~|(dp5|~|~|S'retries'|~|~|p6|~|~|I0|~|~|sS'_sa_instance_state'|~|~|p7|~|~|g0|~|~|(csqlalchemy.orm.state|~|~|InstanceState|~|~|p8|~|~|g2|~|~|Ntp9|~|~|Rp10|~|~|(dp11|~|~|S'manager'|~|~|p12|~|~|g0|~|~|(csqlalchemy.orm.instrumentation|~|~|_SerializeManager|~|~|p13|~|~|g2|~|~|Ntp14|~|~|Rp15|~|~|(dp16|~|~|S'class_'|~|~|p17|~|~|g1|~|~|sbsS'class_'|~|~|p18|~|~|g1|~|~|sS'modified'|~|~|p19|~|~|I01|~|~|sS'committed_state'|~|~|p20|~|~|(dp21|~|~|S'task_type'|~|~|p22|~|~|csqlalchemy.util.langhelpers|~|~|symbol|~|~|p23|~|~|(S'NO_VALUE'|~|~|p24|~|~|S'x'|~|~|p25|~|~|I5699626739644918547|~|~|tp26|~|~|Rp27|~|~|sS'task_id'|~|~|p28|~|~|g23|~|~|(S'NEVER_SET'|~|~|p29|~|~|g25|~|~|I-941588541056912994|~|~|tp30|~|~|Rp31|~|~|sS'end_date'|~|~|p32|~|~|g27|~|~|sS'dag'|~|~|p33|~|~|NsS'owner'|~|~|p34|~|~|g27|~|~|sS'depends_on_past'|~|~|p35|~|~|g27|~|~|sS'start_date'|~|~|p36|~|~|g27|~|~|sS'dag_id'|~|~|p37|~|~|g31|~|~|ssS'instance'|~|~|p38|~|~|g4|~|~|sS'callables'|~|~|p39|~|~|(dp40|~|~|sS'parents'|~|~|p41|~|~|(dp42|~|~|I65665808|~|~|g0|~|~|(g8|~|~|g2|~|~|Ntp43|~|~|Rp44|~|~|(dp45|~|~|g18|~|~|ccore.models|~|~|DAG|~|~|p46|~|~|sg39|~|~|(dp47|~|~|sg19|~|~|I01|~|~|sg38|~|~|g0|~|~|(g46|~|~|g2|~|~|Ntp48|~|~|Rp49|~|~|(dp50|~|~|S'schedule_interval'|~|~|p51|~|~|cdatetime|~|~|timedelta|~|~|p52|~|~|(I1|~|~|I0|~|~|I0|~|~|tp53|~|~|Rp54|~|~|sg7|~|~|g44|~|~|sS'_executor'|~|~|p55|~|~|ccore.executors.base_executor|~|~|LocalExecutor|~|~|p56|~|~|sg32|~|~|cdatetime|~|~|datetime|~|~|p57|~|~|(S'\\x07\\xde\\n\\x07\\x11\\x0c6\\x0e\\xc83'|~|~|p58|~|~|tp59|~|~|Rp60|~|~|sS'filepath'|~|~|p61|~|~|S'<ipython-input-3-106d89bd9ea4>'|~|~|p62|~|~|sS'tasks'|~|~|p63|~|~|g0|~|~|(csqlalchemy.orm.collections|~|~|InstrumentedList|~|~|p64|~|~|c__builtin__|~|~|list|~|~|p65|~|~|(lp66|~|~|g4|~|~|ag0|~|~|(g1|~|~|g2|~|~|Ntp67|~|~|Rp68|~|~|(dp69|~|~|g6|~|~|I0|~|~|sg7|~|~|g0|~|~|(g8|~|~|g2|~|~|Ntp70|~|~|Rp71|~|~|(dp72|~|~|g12|~|~|g0|~|~|(g13|~|~|g2|~|~|Ntp73|~|~|Rp74|~|~|(dp75|~|~|g17|~|~|g1|~|~|sbsg18|~|~|g1|~|~|sg19|~|~|I01|~|~|sg20|~|~|(dp76|~|~|g22|~|~|g27|~|~|sg28|~|~|g31|~|~|sg32|~|~|g27|~|~|sg33|~|~|Nsg34|~|~|g27|~|~|sg35|~|~|g27|~|~|sg36|~|~|g27|~|~|sg37|~|~|g31|~|~|ssg38|~|~|g68|~|~|sg39|~|~|(dp77|~|~|sg41|~|~|(dp78|~|~|I65665808|~|~|g44|~|~|ssbsg32|~|~|Nsg28|~|~|S'mysql_second'|~|~|p79|~|~|sS'sql'|~|~|p80|~|~|S'\\nINSERT INTO tmp\\nSELECT {{ macros.random() * 100 }};\\n'|~|~|p81|~|~|sS'hook'|~|~|p82|~|~|g0|~|~|(ccore.hooks.mysql_hook|~|~|MySqlHook|~|~|p83|~|~|g2|~|~|Ntp84|~|~|Rp85|~|~|(dp86|~|~|S'host'|~|~|p87|~|~|S'localhost'|~|~|p88|~|~|sS'db'|~|~|p89|~|~|S'flux'|~|~|p90|~|~|sS'login'|~|~|p91|~|~|S'flux'|~|~|p92|~|~|sS'psw'|~|~|p93|~|~|S'flux'|~|~|p94|~|~|sbsg33|~|~|g49|~|~|sg22|~|~|S'MySqlOperator'|~|~|p95|~|~|sS'params'|~|~|p96|~|~|(dp97|~|~|sS'_upstream_list'|~|~|p98|~|~|(lp99|~|~|g4|~|~|asS'_schedule_interval'|~|~|p100|~|~|g52|~|~|(I1|~|~|I0|~|~|I0|~|~|tp101|~|~|Rp102|~|~|sS'retry_delay'|~|~|p103|~|~|g52|~|~|(I0|~|~|I10|~|~|I0|~|~|tp104|~|~|Rp105|~|~|sg34|~|~|S'max'|~|~|p106|~|~|sg35|~|~|I00|~|~|sS'_downstream_list'|~|~|p107|~|~|(lp108|~|~|sg36|~|~|Nsg37|~|~|S'test_dag'|~|~|p109|~|~|sbatp110|~|~|Rp111|~|~|(dp112|~|~|S'_sa_adapter'|~|~|p113|~|~|g0|~|~|(csqlalchemy.orm.collections|~|~|CollectionAdapter|~|~|p114|~|~|g2|~|~|Ntp115|~|~|Rp116|~|~|(dp117|~|~|S'data'|~|~|p118|~|~|g111|~|~|sS'owner_state'|~|~|p119|~|~|g44|~|~|sS'key'|~|~|p120|~|~|g63|~|~|sbsbsS'parallelism'|~|~|p121|~|~|I0|~|~|sg37|~|~|g109|~|~|sS'task_count'|~|~|p122|~|~|I2|~|~|sbsg12|~|~|g0|~|~|(g13|~|~|g2|~|~|Ntp123|~|~|Rp124|~|~|(dp125|~|~|g17|~|~|g46|~|~|sbsg20|~|~|(dp126|~|~|g63|~|~|(lp127|~|~|sg122|~|~|g27|~|~|sg121|~|~|g27|~|~|sg37|~|~|g31|~|~|sg61|~|~|g27|~|~|ssbssbsg32|~|~|Nsg28|~|~|S'mysql_fisrt'|~|~|p128|~|~|sg80|~|~|S'TRUNCATE TABLE tmp;'|~|~|p129|~|~|sg82|~|~|g0|~|~|(g83|~|~|g2|~|~|Ntp130|~|~|Rp131|~|~|(dp132|~|~|g87|~|~|S'localhost'|~|~|p133|~|~|sg89|~|~|S'flux'|~|~|p134|~|~|sg91|~|~|S'flux'|~|~|p135|~|~|sg93|~|~|S'flux'|~|~|p136|~|~|sbsg33|~|~|g49|~|~|sg22|~|~|g95|~|~|sg96|~|~|(dp137|~|~|sg98|~|~|(lp138|~|~|sg100|~|~|g102|~|~|sg103|~|~|g105|~|~|sg34|~|~|g106|~|~|sg35|~|~|I00|~|~|sg107|~|~|(lp139|~|~|g68|~|~|asg36|~|~|Nsg37|~|~|g109|~|~|sb.\"  \n"
       ]
      }
     ],
     "prompt_number": 3
    }
   ],
   "metadata": {}
  }
 ]
}